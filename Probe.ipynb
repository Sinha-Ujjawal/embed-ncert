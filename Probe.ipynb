{
 "cells": [
  {
   "cell_type": "code",
   "execution_count": 2,
   "id": "58c74a65-a9e4-4cfc-ac4f-a19f6e7d0b83",
   "metadata": {},
   "outputs": [],
   "source": [
    "import json\n",
    "import requests"
   ]
  },
  {
   "cell_type": "code",
   "execution_count": null,
   "id": "abdf8667-6578-4594-b406-e97fa40eb661",
   "metadata": {
    "scrolled": true
   },
   "outputs": [
    {
     "name": "stdout",
     "output_type": "stream",
     "text": [
      "response_type='reasoning'\n",
      "Let me analyze the question and the context carefully.\n",
      "\n",
      "The current question is: \"When did Carl Friedrich Gauss die?\"\n",
      "\n",
      "I need to find which chunks contain information about when Carl Friedrich Gauss died.\n",
      "\n",
      "Looking at the conversation history, I can see that the user has asked this question multiple times, and the AI has responded with the same chunk: [33ce5048-3a48-07e1-e86b-3e4fdbebbe7b] Carl Friedrich Gauss (1777 – 1855)\n",
      "\n",
      "This chunk ID appears to be the only relevant chunk for answering the question about when Gauss died.\n",
      "\n",
      "Let me check the context chunks to confirm:\n",
      "\n",
      "Chunk ID: 33ce5048-3a48-07e1-e86b-3e4fdbebbe7b\n",
      "This chunk contains the information: \"Carl Friedrich Gauss (1777 – 1855)\"\n",
      "\n",
      "This is directly answering the question - Gauss died in 1855.\n",
      "\n",
      "Let me check the other chunks to make sure they don't contain relevant information:\n",
      "\n",
      "Chunk ID: 32c33d7a-66db-3b44-c19a-5b093638ff72\n",
      "This chunk is about the Fundamental Theorem of Arithmetic and doesn't mention Gauss's death.\n",
      "\n",
      "Chunk ID: ace1ba78-1634-1090-d525-2c329c3e3612\n",
      "This chunk is an exercise about prime factorization and doesn't mention Gauss's death.\n",
      "\n",
      "Chunk ID: 172b584d-ca6b-a600-a89e-b08e48613535\n",
      "This chunk is about factor trees and prime numbers, but doesn't mention Gauss's death.\n",
      "\n",
      "So the only relevant chunk is [33ce5048-3a48-07"
     ]
    }
   ],
   "source": [
    "url = \"http://localhost:8000/query\"\n",
    "data = {\n",
    "    # \"question\": \"What are real numbers?\",\n",
    "    # \"question\": \"Who is Carl Friedrich Gauss?\",\n",
    "    # \"question\": \"What is the weather today in Bangalore?\",\n",
    "    \"thread_id\": \"e8d5c5b3-f42a-4961-ac6d-9af34055a1eb\",\n",
    "    \"question\": \"When did Carl Friedrich Gauss die?\",\n",
    "    \"subject\": \"math\",\n",
    "}\n",
    "lines = []\n",
    "with requests.post(url, json=data, stream=True) as r:\n",
    "    r.raise_for_status()\n",
    "    mode = None\n",
    "    for line in r.iter_lines():\n",
    "        lines.append(line)\n",
    "        line_dict = json.loads(line)\n",
    "        response_type = line_dict[\"response_type\"]\n",
    "        response = line_dict[\"response\"]\n",
    "        if mode != response_type:\n",
    "            mode = response_type\n",
    "            print(f\"{response_type=}\")\n",
    "        print(response, end=\"\")"
   ]
  },
  {
   "cell_type": "code",
   "execution_count": null,
   "id": "a48b54f2-0fe0-4f9a-af60-a8d5d056b491",
   "metadata": {},
   "outputs": [],
   "source": []
  }
 ],
 "metadata": {
  "kernelspec": {
   "display_name": "Python 3 (ipykernel)",
   "language": "python",
   "name": "python3"
  },
  "language_info": {
   "codemirror_mode": {
    "name": "ipython",
    "version": 3
   },
   "file_extension": ".py",
   "mimetype": "text/x-python",
   "name": "python",
   "nbconvert_exporter": "python",
   "pygments_lexer": "ipython3",
   "version": "3.12.11"
  }
 },
 "nbformat": 4,
 "nbformat_minor": 5
}
